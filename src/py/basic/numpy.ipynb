{
 "cells": [
  {
   "cell_type": "code",
   "execution_count": null,
   "metadata": {
    "collapsed": true
   },
   "outputs": [],
   "source": [
    "# https://www.numpy.org.cn/\n",
    "import numpy as np\n",
    "\n",
    "arr = np.array((1, 2, 3), (4, 5, 6))  # list/tuple\n",
    "np.zeros((2, 3))\n",
    "np.ones((3, 4), dtype='int64')  # np.int64\n",
    "np.empty((3, 4))\n",
    "np.arange(10, 31, 5)  # like range()\n",
    "# np.ndim shape size dtype\n",
    "np.arange(6).reshape([2, 3])\n",
    "# 矩阵 op basic: + - * / **\n",
    "# np.dot sum max min mean argmax argmin transpose flatten"
   ]
  },
  {
   "cell_type": "code",
   "execution_count": null,
   "outputs": [],
   "source": [
    "import pandas as pd\n",
    "\n",
    "pd.Series(['a', 'b', 'c', 'd', 'e'])  # series: value index\n",
    "# op: + * 标签自动对齐\n",
    "pd.DataFrame()  # [series] + index/columns"
   ],
   "metadata": {
    "collapsed": false,
    "pycharm": {
     "name": "#%%\n"
    }
   }
  },
  {
   "cell_type": "code",
   "execution_count": null,
   "outputs": [],
   "source": [
    "from PIL import Image  # pillow\n",
    "import matplotlib.pyplot as plt\n",
    "\n",
    "img = Image.open('/home/aistudio/work/yushuxin.jpg')\n",
    "plt.imshow(img)\n",
    "plt.show(img)\n",
    "width, height = img.size  # img.mode\n",
    "img.rotate(45)\n",
    "img.crop((126, 0, 381, 249))\n",
    "img.resize((int(width * 0.6), int(height * 0.6)), Image.ANTIALIAS)\n",
    "img.transpose(Image.FLIP_LEFT_RIGHT)\n",
    "img.save()"
   ],
   "metadata": {
    "collapsed": false,
    "pycharm": {
     "name": "#%%\n"
    }
   }
  },
  {
   "cell_type": "code",
   "execution_count": null,
   "outputs": [],
   "source": [
    "# matplotlib https://www.matplotlib.org.cn/\n",
    "import matplotlib.pyplot as plt\n",
    "\n",
    "# line\n",
    "x = np.linspace(-1, 1, 50)  # 等差数列\n",
    "y1 = 2 * x + 1\n",
    "y2 = x ** 2\n",
    "plt.figure(figsize=(7, 5))\n",
    "l1, = plt.plot(x, y1, color='red', linewidth=1)\n",
    "l2, = plt.plot(x, y2, color='blue', linewidth=5)\n",
    "plt.legend(handles=[l1, l2], labels=['aa', 'bb'], loc='best')\n",
    "plt.xlabel('x', fontsize=20)\n",
    "plt.ylabel('y', fontsize=20)\n",
    "plt.show()\n",
    "# dot\n",
    "dots1 = np.random.rand(50)\n",
    "dots2 = np.random.rand(50)\n",
    "plt.scatter(dots1, dots2, c='red', alpha=0.5)  # c表示颜色，alpha表示透明度\n",
    "plt.show()\n",
    "# bar\n",
    "x = np.arange(10)\n",
    "y = 2 ** x + 10\n",
    "plt.bar(x, y, facecolor='#9999ff', edgecolor='white')\n",
    "for ax, ay in zip(x, y):\n",
    "    plt.text(ax, ay, '%.1f' % ay, ha='center', va='bottom')\n",
    "plt.show()"
   ],
   "metadata": {
    "collapsed": false,
    "pycharm": {
     "name": "#%%\n"
    }
   }
  }
 ],
 "metadata": {
  "kernelspec": {
   "name": "pycharm-45cf040b",
   "language": "python",
   "display_name": "PyCharm (py)"
  },
  "language_info": {
   "codemirror_mode": {
    "name": "ipython",
    "version": 2
   },
   "file_extension": ".py",
   "mimetype": "text/x-python",
   "name": "python",
   "nbconvert_exporter": "python",
   "pygments_lexer": "ipython2",
   "version": "2.7.6"
  }
 },
 "nbformat": 4,
 "nbformat_minor": 0
}